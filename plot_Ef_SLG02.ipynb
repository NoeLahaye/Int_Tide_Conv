{
 "cells": [
  {
   "cell_type": "code",
   "execution_count": 2,
   "metadata": {},
   "outputs": [],
   "source": [
    "%matplotlib inline\n",
    "from matplotlib import pyplot as plt\n",
    "from matplotlib.colors import LogNorm\n",
    "from mpl_toolkits.basemap import Basemap\n",
    "import xarray as xr\n",
    "import numpy as np\n",
    "\n",
    "path_data = '/net/krypton/data0/project/vortex/lahaye/Tide_Conv/output_data/'\n",
    "data_name = 'Ef_lucky_tpxo8_mpi.0?.nc'\n",
    "agg_dim = 'xi'\n",
    "\n",
    "nc = xr.open_mfdataset(path_data+data_name,concat_dim='xi')"
   ]
  },
  {
   "cell_type": "code",
   "execution_count": 104,
   "metadata": {},
   "outputs": [],
   "source": [
    "lon = nc.variables['lon'].values\n",
    "lat = nc.variables['lat'].values\n",
    "topo = -nc.variables['h'].values\n",
    "mask = topo<10\n",
    "\n",
    "toplot = nc.variables['Ef_t']\n",
    "\n",
    "picdir = 'pictures/'"
   ]
  },
  {
   "cell_type": "code",
   "execution_count": 135,
   "metadata": {},
   "outputs": [],
   "source": [
    "### parameters for plotting\n",
    "\n",
    "fs       = 12\n",
    "proj     = 'lcc'\n",
    "res      = 'i'\n",
    "stride   = 5\n",
    "Lx,Ly    = 1500e3,1500e3 # extend in m\n",
    "cmap = plt.get_cmap('gist_stern_r')\n",
    "zlevs=[0,2000,3500]\n",
    "topocol='k'     # isobath. contour color\n",
    "grdcol='gray'   # grid color\n",
    "mascale = 'linear'# \"log\" # \n",
    "\n",
    "if mascale == \"linear\":\n",
    "    valmax = 0.01\n",
    "    levels = np.linspace(0,valmax,11)\n",
    "    levels[0] = levels[1]/2\n",
    "elif mascale == 'log':\n",
    "    valmin = 1e-6\n",
    "    valmax = 0.1\n",
    "    levels = np.logspace(np.log10(valmin),np.log10(valmax),11)\n",
    "\n",
    "### do the plot\n",
    "fig = plt.figure(figsize=(8,7))\n",
    "ax = plt.subplot(111)\n",
    "bm = Basemap(projection=proj,resolution=res,lon_0=lon.mean(),\n",
    "        lat_0=lat.mean(),width=Lx,height=Ly)\n",
    "xx, yy = bm(lon, lat)\n",
    "bm.drawcoastlines(color='black')\n",
    "bm.fillcontinents(color='white')\n",
    "bm.drawparallels(np.arange(-60,70,stride),labels=[1,0,0,0],linewidth=0.8,\\\n",
    "                fontsize=fs,color=grdcol)\n",
    "bm.drawmeridians(np.arange(-100,100,stride),labels=[0,0,0,1],linewidth=0.8,\\\n",
    "                fontsize=fs,color=grdcol)\n",
    "\n",
    "bm.contour(xx,yy,topo,zlevs,colors=topocol,linewidths=0.5,alpha=0.5)\n",
    "if mascale == 'linear':\n",
    "    hpc = bm.contourf(xx,yy,np.ma.masked_array(toplot.values,mask),levels,cmap=cmap,extend='max',linestyles=None)\n",
    "    hcb = bm.colorbar(hpc,extend=\"max\")\n",
    "    hcb.set_ticks(np.r_[0,hcb.get_ticks()])\n",
    "    hcb.formatter.set_powerlimits((-1, 1))\n",
    "    hcb.formatter.set_useMathText(True)\n",
    "    hcb.update_ticks()\n",
    "elif mascale == 'log':\n",
    "    hpc = bm.contourf(xx,yy,np.ma.masked_array(toplot.values,mask),levels,cmap=cmap,norm = LogNorm(),linestyles=None)\n",
    "    hcb = bm.colorbar(hpc)\n",
    "for item in hpc.collections:\n",
    "    item.set_rasterized('True')\n",
    "hcb.ax.tick_params(labelsize=fs)\n",
    "\n",
    "hcb.set_label(r'$W/m^2$',fontsize=fs+1)    \n",
    "plt.savefig(picdir+'Eft_LUCKY_TPXO8_{}.pdf'.format(mascale),magnification='auto',dpi=200,bbox_inches='tight')"
   ]
  },
  {
   "cell_type": "code",
   "execution_count": 141,
   "metadata": {},
   "outputs": [
    {
     "data": {
      "image/png": "[encoded data removed]",
      "text/plain": [
       "<matplotlib.figure.Figure at 0x7f9fa424e240>"
      ]
     },
     "metadata": {},
     "output_type": "display_data"
    }
   ],
   "source": [
    "indx, indy = 250,250\n",
    "kh = nc.variables['kh'].values\n",
    "indk, = np.where(kh<=2e-3)\n",
    "kh = kh[indk]\n",
    "Efk = nc.variables['Ef_a'][indy,indx,indk].values\n",
    "\n",
    "\n",
    "plt.loglog(kh,Efk,'k')\n",
    "plt.grid(True)"
   ]
  },
  {
   "cell_type": "code",
   "execution_count": null,
   "metadata": {},
   "outputs": [],
   "source": []
  }
 ],
 "metadata": {
  "kernelspec": {
   "display_name": "Python 3",
   "language": "python",
   "name": "python3"
  },
  "language_info": {
   "codemirror_mode": {
    "name": "ipython",
    "version": 3
   },
   "file_extension": ".py",
   "mimetype": "text/x-python",
   "name": "python",
   "nbconvert_exporter": "python",
   "pygments_lexer": "ipython3",
   "version": "3.4.3"
  }
 },
 "nbformat": 4,
 "nbformat_minor": 2
}
